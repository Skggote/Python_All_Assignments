{
 "cells": [
  {
   "cell_type": "markdown",
   "id": "a28b35d6",
   "metadata": {},
   "source": [
    "### Q.1 Write a Python function to sum all the numbers in a list.\n",
    "\n",
    "\n",
    "\n",
    "#### Sample List : (8, 2, 3, 0, 7)\n",
    "\n",
    "#### Expected Output : 20\n",
    "\n",
    "\n",
    "\n",
    "#### Explanation:\n",
    "\n",
    "\n",
    "\n",
    "#### Summation should like 8+2+3+0+7 = 20"
   ]
  },
  {
   "cell_type": "code",
   "execution_count": 15,
   "id": "3c4dd094",
   "metadata": {},
   "outputs": [
    {
     "name": "stdout",
     "output_type": "stream",
     "text": [
      "Enter a list of numbers separated by spaces: 8, 2, 3, 0, 7\n",
      "Sum of the numbers: 20\n"
     ]
    }
   ],
   "source": [
    "def sum_list_numbers(numbers):\n",
    "    total = 0\n",
    "    for num in numbers:\n",
    "        total += num\n",
    "    return total\n",
    "\n",
    "input_str = input(\"Enter a list of numbers separated by spaces: \")\n",
    "input_list = [int(num) for num in input_str.split(',')]\n",
    "\n",
    "result = sum_list_numbers(input_list)\n",
    "print(\"Sum of the numbers:\", result)"
   ]
  },
  {
   "cell_type": "markdown",
   "id": "5277f3fc",
   "metadata": {},
   "source": [
    "#### OR"
   ]
  },
  {
   "cell_type": "code",
   "execution_count": 16,
   "id": "71454bf5",
   "metadata": {},
   "outputs": [
    {
     "name": "stdout",
     "output_type": "stream",
     "text": [
      "Enter a list of numbers separated by spaces: 8, 2, 3, 0, 7\n",
      "Summation: 8 + 2 + 3 + 0 + 7 = 20\n"
     ]
    }
   ],
   "source": [
    "def sum_list_numbers(numbers):\n",
    "    total = 0\n",
    "    for num in numbers:\n",
    "        total += num\n",
    "    return total\n",
    "\n",
    "input_list = list(map(int,input(\"Enter a list of numbers separated by spaces: \").split(',')))\n",
    "\n",
    "result = sum_list_numbers(input_list) \n",
    "\n",
    "expression = \" + \".join(str(num) for num in input_list)\n",
    "print(\"Summation:\", expression, \"=\", result)\n"
   ]
  },
  {
   "cell_type": "markdown",
   "id": "143aecd1",
   "metadata": {},
   "source": [
    "#### Q.2 Write a Python program to reverse a string.\n",
    "\n",
    "\n",
    "\n",
    "#### Sample String : \"1234abcd\"\n",
    "\n",
    "#### Expected Output : \"dcba4321\""
   ]
  },
  {
   "cell_type": "code",
   "execution_count": 7,
   "id": "686c3e37",
   "metadata": {},
   "outputs": [
    {
     "name": "stdout",
     "output_type": "stream",
     "text": [
      "Sample string: 1234abcd\n",
      "Reversed String: dcba4321\n"
     ]
    }
   ],
   "source": [
    "def reverse_string(input_str):\n",
    "    reversed_str = input_str[::-1]\n",
    "    return reversed_str\n",
    "\n",
    "sample_string = input(\"Sample string: \")\n",
    "reversed_string = reverse_string(sample_string)\n",
    "print(\"Reversed String:\", reversed_string)"
   ]
  },
  {
   "cell_type": "markdown",
   "id": "624eebbb",
   "metadata": {},
   "source": [
    "#### OR"
   ]
  },
  {
   "cell_type": "code",
   "execution_count": 10,
   "id": "22c99d90",
   "metadata": {},
   "outputs": [
    {
     "name": "stdout",
     "output_type": "stream",
     "text": [
      "Sample string: 1234abcd\n",
      "Reversed String: dcba4321\n"
     ]
    }
   ],
   "source": [
    "def reverse_string(input_string):\n",
    "    reversed_str = \"\"\n",
    "    for char in input_string:\n",
    "        reversed_str = char + reversed_str\n",
    "    return reversed_str\n",
    "\n",
    "sample_string = input(\"Sample string: \")\n",
    "reversed_string = reverse_string(sample_string)\n",
    "print(\"Reversed String:\", reversed_string)"
   ]
  },
  {
   "cell_type": "markdown",
   "id": "e31c4849",
   "metadata": {},
   "source": [
    "#### Q.3 Write a Python function that accepts a string and calculate the number of upper case letters and lower case letters.\n",
    "\n",
    "\n",
    "#### Sample String : 'The quick Brow Fox'\n",
    "\n",
    "#### Expected Output :\n",
    "\n",
    "#### No. of Upper case characters : 3\n",
    "\n",
    "#### No. of Lower case Characters : 12"
   ]
  },
  {
   "cell_type": "code",
   "execution_count": 23,
   "id": "6b5572e2",
   "metadata": {},
   "outputs": [
    {
     "name": "stdout",
     "output_type": "stream",
     "text": [
      "Sample string: 'The quick Brow Fox'\n",
      "No. of Upper case characters: 3\n",
      "No. of Lower case characters: 12\n"
     ]
    }
   ],
   "source": [
    "def count_upper_lower(input_string):\n",
    "    upper_count = 0\n",
    "    lower_count = 0\n",
    "    \n",
    "    for char in input_string:\n",
    "        if 'A' <= char <= 'Z':\n",
    "            upper_count += 1\n",
    "        elif 'a' <= char <= 'z':\n",
    "            lower_count += 1\n",
    "            \n",
    "    return upper_count, lower_count\n",
    "\n",
    "sample_string = input(\"Sample string: \")\n",
    "upper_count, lower_count = count_upper_lower(sample_string)\n",
    "\n",
    "print(\"No. of Upper case characters:\", upper_count)\n",
    "print(\"No. of Lower case characters:\", lower_count)"
   ]
  },
  {
   "cell_type": "markdown",
   "id": "de5cefd2",
   "metadata": {},
   "source": [
    "#### OR"
   ]
  },
  {
   "cell_type": "code",
   "execution_count": 24,
   "id": "39fc8731",
   "metadata": {},
   "outputs": [
    {
     "name": "stdout",
     "output_type": "stream",
     "text": [
      "Sample string: 'The quick Brow Fox'\n",
      "No. of Upper case characters: 3\n",
      "No. of Lower case characters: 12\n"
     ]
    }
   ],
   "source": [
    "def count_upper_lower(input_string):\n",
    "    upper_count = 0\n",
    "    lower_count = 0\n",
    "    \n",
    "    for char in input_string:\n",
    "        if char.isupper():\n",
    "            upper_count += 1\n",
    "        elif char.islower():\n",
    "            lower_count += 1\n",
    "            \n",
    "    return upper_count, lower_count\n",
    "\n",
    "sample_string = input(\"Sample string: \")\n",
    "upper_count, lower_count = count_upper_lower(sample_string)\n",
    "\n",
    "print(\"No. of Upper case characters:\", upper_count)\n",
    "print(\"No. of Lower case characters:\", lower_count)"
   ]
  }
 ],
 "metadata": {
  "kernelspec": {
   "display_name": "Python 3 (ipykernel)",
   "language": "python",
   "name": "python3"
  },
  "language_info": {
   "codemirror_mode": {
    "name": "ipython",
    "version": 3
   },
   "file_extension": ".py",
   "mimetype": "text/x-python",
   "name": "python",
   "nbconvert_exporter": "python",
   "pygments_lexer": "ipython3",
   "version": "3.9.6"
  }
 },
 "nbformat": 4,
 "nbformat_minor": 5
}
