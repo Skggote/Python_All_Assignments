{
  "cells": [
    {
      "cell_type": "markdown",
      "metadata": {
        "id": "E8OOioB-tJHu"
      },
      "source": [
        "**Q1. Write a Python program to create a lambda function that adds 25 to a given** **number passed in as an argument.**\n",
        "\n",
        "\n",
        "\n",
        "**sample input**: 10\n",
        "\n",
        "**sample output**: 35"
      ]
    },
    {
      "cell_type": "code",
      "execution_count": 15,
      "metadata": {
        "colab": {
          "base_uri": "https://localhost:8080/"
        },
        "id": "LAw_1Tqjshd5",
        "outputId": "cf6efb51-68b7-46ce-cd33-e8f722a63584"
      },
      "outputs": [
        {
          "output_type": "stream",
          "name": "stdout",
          "text": [
            "sample input: 10\n",
            "sample output: 35\n"
          ]
        }
      ],
      "source": [
        "add_25 = lambda x: x + 25\n",
        "\n",
        "result = add_25(int(input(\"sample input: \")))\n",
        "\n",
        "print(\"sample output:\", result)"
      ]
    },
    {
      "cell_type": "markdown",
      "source": [
        "#### **OR**"
      ],
      "metadata": {
        "id": "bP4j42hE1Qt-"
      }
    },
    {
      "cell_type": "code",
      "source": [
        "def add_25_function(x):\n",
        "    return x + 25\n",
        "\n",
        "result = add_25_function(int(input(\"sample input: \")))\n",
        "\n",
        "print(\"Sample output:\", result)"
      ],
      "metadata": {
        "colab": {
          "base_uri": "https://localhost:8080/"
        },
        "id": "634eOS3mxMHd",
        "outputId": "20619621-ed8b-478f-f92b-2f293a919054"
      },
      "execution_count": 31,
      "outputs": [
        {
          "output_type": "stream",
          "name": "stdout",
          "text": [
            "sample input: 10\n",
            "Sample output: 35\n"
          ]
        }
      ]
    },
    {
      "cell_type": "markdown",
      "metadata": {
        "id": "oOmelLnTsiB3"
      },
      "source": [
        "**Q2. Write a Python program to triple all numbers of a given list of integers. Use Python map.**\n",
        "\n",
        "\n",
        "\n",
        "**sample list:** [1, 2, 3, 4, 5, 6, 7]\n",
        "\n",
        "\n",
        "\n",
        "**Triple of list numbers:**\n",
        "\n",
        "[3, 6, 9, 12, 15, 18, 21]"
      ]
    },
    {
      "cell_type": "code",
      "execution_count": null,
      "metadata": {
        "colab": {
          "base_uri": "https://localhost:8080/"
        },
        "id": "haoK7JMsvzcT",
        "outputId": "e2b2934b-871e-4773-8efd-b89bfb565ec3"
      },
      "outputs": [
        {
          "output_type": "stream",
          "name": "stdout",
          "text": [
            "Sample list: [1,2,3,4,5,6,7]\n",
            "Triple of list numbers: \n",
            "[3, 6, 9, 12, 15, 18, 21]\n"
          ]
        }
      ],
      "source": [
        "def triple_number(x):\n",
        "    return x * 3\n",
        "\n",
        "result_list = list(map(triple_number, eval(input(\"Sample list: \"))))\n",
        "\n",
        "print(\"Triple of list numbers: \")\n",
        "print(result_list)"
      ]
    },
    {
      "cell_type": "markdown",
      "source": [
        "#### **OR**"
      ],
      "metadata": {
        "id": "T1gKbhsLvUXb"
      }
    },
    {
      "cell_type": "code",
      "source": [
        "result_list = list(map(lambda x:x*3, filter(lambda x: True, eval(input(\"sample list: \")))))\n",
        "\n",
        "print(\"Triple of list numbers:\")\n",
        "print(result_list)"
      ],
      "metadata": {
        "colab": {
          "base_uri": "https://localhost:8080/"
        },
        "id": "PG_914oKt_R7",
        "outputId": "8d755740-c428-4b26-dbc8-61cbd0af411d"
      },
      "execution_count": 14,
      "outputs": [
        {
          "output_type": "stream",
          "name": "stdout",
          "text": [
            "sample list: [1,2,3,4,5,6,7]\n",
            "Triple of list numbers:\n",
            "[3, 6, 9, 12, 15, 18, 21]\n"
          ]
        }
      ]
    },
    {
      "cell_type": "markdown",
      "metadata": {
        "id": "UtDiFxVozTUd"
      },
      "source": [
        "**Q3. Write a Python program to square the elements of a list using map() function.**\n",
        "\n",
        "**Sample List:** [4, 5, 2, 9]\n",
        "\n",
        "**Square the elements of the list:**\n",
        "\n",
        "[16, 25, 4, 81]"
      ]
    },
    {
      "cell_type": "code",
      "execution_count": null,
      "metadata": {
        "colab": {
          "base_uri": "https://localhost:8080/"
        },
        "id": "larBkcR_Uf99",
        "outputId": "2f608840-45c4-4953-f720-80b3dc4dd6a1"
      },
      "outputs": [
        {
          "output_type": "stream",
          "name": "stdout",
          "text": [
            "sample list:[4,5,2,9]\n",
            "Square of list elements: \n",
            "[16, 25, 4, 81]\n"
          ]
        }
      ],
      "source": [
        "def square_number(x):\n",
        "  return x ** 2\n",
        "\n",
        "result_list = list(map(square_number, eval(input(\"sample list:\"))))\n",
        "\n",
        "print(\"Square of list elements: \")\n",
        "print(result_list)"
      ]
    },
    {
      "cell_type": "markdown",
      "source": [
        "#### **OR**"
      ],
      "metadata": {
        "id": "nmICc-lWtpfr"
      }
    },
    {
      "cell_type": "code",
      "source": [
        "result_list = list(map(lambda x: x**2, eval(input(\"sample list:\"))))\n",
        "\n",
        "print(\"Square of list elements: \")\n",
        "print(result_list)"
      ],
      "metadata": {
        "id": "27-ChZ92h5n7",
        "colab": {
          "base_uri": "https://localhost:8080/"
        },
        "outputId": "9e8a97e1-78c5-433a-a3ba-a5e1babe3151"
      },
      "execution_count": 10,
      "outputs": [
        {
          "output_type": "stream",
          "name": "stdout",
          "text": [
            "sample list:[4,5,2,9]\n",
            "Square of list elements: \n",
            "[16, 25, 4, 81]\n"
          ]
        }
      ]
    }
  ],
  "metadata": {
    "colab": {
      "provenance": []
    },
    "kernelspec": {
      "display_name": "Python 3",
      "name": "python3"
    },
    "language_info": {
      "name": "python"
    }
  },
  "nbformat": 4,
  "nbformat_minor": 0
}