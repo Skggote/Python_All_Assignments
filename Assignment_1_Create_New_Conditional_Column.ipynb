{
  "nbformat": 4,
  "nbformat_minor": 0,
  "metadata": {
    "colab": {
      "provenance": []
    },
    "kernelspec": {
      "name": "python3",
      "display_name": "Python 3"
    },
    "language_info": {
      "name": "python"
    }
  },
  "cells": [
    {
      "cell_type": "markdown",
      "source": [
        "#### **Create New Cond Col**\n"
      ],
      "metadata": {
        "id": "CB2dsOb3IfoP"
      }
    },
    {
      "cell_type": "markdown",
      "source": [
        "surcharge\n",
        "\n",
        "if ship_mode = \"Same Day\" then 20% or 0.2\n",
        "\n",
        "else if ship_mode = \"First Class\" then 10% or 0.1\n",
        "\n",
        "else if ship_mode = \"Standard Class\" then 5% or 0.5\n",
        "\n",
        "else 0\n",
        "\n",
        "\n",
        "\n",
        "\n",
        "\n",
        "total cost = (sales - profit ) * ( 1 + surcharge )"
      ],
      "metadata": {
        "id": "UlnsCBxRIRhl"
      }
    },
    {
      "cell_type": "code",
      "source": [
        "import pandas as pd\n",
        "\n",
        "data = {\n",
        "    \"ship_mode\": [\"Same Day\", \"First Class\", \"Standard Class\", \"Second Class\", \"Other Class\"],\n",
        "    \"sales\": [100, 150, 200, 80, 120],\n",
        "    \"profit\": [10, 15, 20, 8, 12],\n",
        "}\n",
        "\n",
        "df = pd.DataFrame(data)\n",
        "\n",
        "def calculate_surcharge(ship_mode):\n",
        "    if ship_mode == \"Same Day\":\n",
        "        return 0.2\n",
        "    elif ship_mode == \"First Class\":\n",
        "        return 0.1\n",
        "    elif ship_mode == \"Standard Class\":\n",
        "        return 0.5\n",
        "    else:\n",
        "        return 0\n",
        "\n",
        "df[\"surcharge\"] = df[\"ship_mode\"].apply(calculate_surcharge)\n",
        "\n",
        "df[\"total_cost\"] = (df[\"sales\"] - df[\"profit\"]) * (1 + df[\"surcharge\"])\n",
        "\n",
        "print(df)\n"
      ],
      "metadata": {
        "colab": {
          "base_uri": "https://localhost:8080/"
        },
        "id": "NN4vGhoYG0MY",
        "outputId": "47afbf50-b239-49ed-cd2d-84e2b9c71775"
      },
      "execution_count": 9,
      "outputs": [
        {
          "output_type": "stream",
          "name": "stdout",
          "text": [
            "        ship_mode  sales  profit  surcharge  total_cost\n",
            "0        Same Day    100      10        0.2       108.0\n",
            "1     First Class    150      15        0.1       148.5\n",
            "2  Standard Class    200      20        0.3       234.0\n",
            "3    Second Class     80       8        0.5       108.0\n",
            "4     Other Class    120      12        0.0       108.0\n"
          ]
        }
      ]
    }
  ]
}