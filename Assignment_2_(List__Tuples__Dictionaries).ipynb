{
  "nbformat": 4,
  "nbformat_minor": 0,
  "metadata": {
    "colab": {
      "provenance": []
    },
    "kernelspec": {
      "name": "python3",
      "display_name": "Python 3"
    },
    "language_info": {
      "name": "python"
    }
  },
  "cells": [
    {
      "cell_type": "markdown",
      "source": [
        "**Q.1   Write a Python program to get a list, sorted in increasing order by the last** **element in each tuple from a given list of non-empty tuples**\n",
        "\n",
        "\n",
        "\n",
        "**Sample List :** [(2, 5), (1, 2), (4, 4), (2, 3), (2, 1)]\n",
        "\n",
        "**Expected Result :** [(2, 1), (1, 2), (2, 3), (4, 4), (2, 5)]"
      ],
      "metadata": {
        "id": "nE1qRtyy7eWB"
      }
    },
    {
      "cell_type": "code",
      "execution_count": 9,
      "metadata": {
        "colab": {
          "base_uri": "https://localhost:8080/"
        },
        "id": "bwYBYHiF6wuT",
        "outputId": "5caa91c3-aa0f-4c14-e2d1-a13229bffef6"
      },
      "outputs": [
        {
          "output_type": "stream",
          "name": "stdout",
          "text": [
            "Sample List: [(2, 5), (1, 2), (4, 4), (2, 3), (2, 1)]\n",
            "Expected Result:  [(2, 1), (1, 2), (2, 3), (4, 4), (2, 5)]\n"
          ]
        }
      ],
      "source": [
        "def last(n):\n",
        "    return n[-1]\n",
        "\n",
        "def sort(tuples):\n",
        "    return sorted(tuples, key=last)\n",
        "\n",
        "n = eval(input(\"Sample List: \"))\n",
        "print(\"Expected Result: \",sort(n))"
      ]
    },
    {
      "cell_type": "markdown",
      "source": [
        "**Q.2  Write a Python program to print a dictionary whose keys should be the** **alphabet from a-z and the value should be corresponding ASCII values**\n",
        "\n",
        "\n",
        "\n",
        "Sample Output : {'a': 97, 'b': 98, 'c': 99, 'd': 100, 'e': 101, 'f': 102, 'g': 103, 'h': 104, 'i': 105, 'j': 106, 'k': 107, 'l': 108, 'm': 109, 'n': 110, 'o': 111, 'p': 112, 'q': 113, 'r': 114, 's': 115, 't': 116, 'u': 117, 'v': 118, 'w': 119, 'x': 120, 'y': 121, 'z': 122}\n",
        "\n"
      ],
      "metadata": {
        "id": "Q4PkvS5C72P_"
      }
    },
    {
      "cell_type": "code",
      "source": [
        "ascii_dict = {}\n",
        "\n",
        "def create_dict(input_string):\n",
        "    for i in input_string:\n",
        "        if 'a' <= i <= 'z':\n",
        "            ascii_dict[i] = ord(i)\n",
        "    return ascii_dict\n",
        "\n",
        "user_input = input(\"Enter a string: \")\n",
        "print(\"Output is : \",create_dict(user_input))"
      ],
      "metadata": {
        "colab": {
          "base_uri": "https://localhost:8080/"
        },
        "id": "gC2Rb4KptV97",
        "outputId": "7315beca-993b-41a8-97ed-096730ff257b"
      },
      "execution_count": 10,
      "outputs": [
        {
          "output_type": "stream",
          "name": "stdout",
          "text": [
            "Enter a string: abcdefghijklmnopqrstuvwxyz\n",
            "Output is :  {'a': 97, 'b': 98, 'c': 99, 'd': 100, 'e': 101, 'f': 102, 'g': 103, 'h': 104, 'i': 105, 'j': 106, 'k': 107, 'l': 108, 'm': 109, 'n': 110, 'o': 111, 'p': 112, 'q': 113, 'r': 114, 's': 115, 't': 116, 'u': 117, 'v': 118, 'w': 119, 'x': 120, 'y': 121, 'z': 122}\n"
          ]
        }
      ]
    }
  ]
}
