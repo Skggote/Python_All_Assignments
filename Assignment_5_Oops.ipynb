{
  "nbformat": 4,
  "nbformat_minor": 0,
  "metadata": {
    "colab": {
      "provenance": []
    },
    "kernelspec": {
      "name": "python3",
      "display_name": "Python 3"
    },
    "language_info": {
      "name": "python"
    }
  },
  "cells": [
    {
      "cell_type": "markdown",
      "source": [
        "# **Assingment_5_Oops**"
      ],
      "metadata": {
        "id": "3w8HY3KLq2Li"
      }
    },
    {
      "cell_type": "markdown",
      "source": [
        "## **Challenge 1: Square Numbers and Return Their Sum**\n",
        "\n",
        "**🔴 In this challenge, you need to implement a method that squares passing variables and returns their sum.**\n",
        "\n",
        "**Problem statement: Implement a class Point that has three properties and a method. All these attributes (properties and methods) should be public. This problem can be broken down into two tasks:**\n",
        "\n",
        "**Task 1: 👉 Implement a constructor to initialize the values of three properties: x, y, and z.**\n",
        "\n",
        "**Task 2: 👉 Implement a method, sqSum(), in the Point class which squares x, y, and z and returns their sum.**\n",
        "\n",
        "**Sample properties :  1, 3, 5**\n",
        "\n",
        "**Sample method output : 35**"
      ],
      "metadata": {
        "id": "8wsPpFzbC_2W"
      }
    },
    {
      "cell_type": "markdown",
      "source": [
        "#### **Coding exercise Create a class Point with three properties: x, y, and z.**\n",
        "\n",
        "#### **class Point:**\n",
        "\n",
        "> Indented block\n",
        "\n",
        "\n",
        "\n",
        "    def __init__(self):\n",
        "        self.x = x\n",
        "        self.y = y\n",
        "        self.z = z\n",
        "\n",
        "    def sqSum(self):\n",
        "        pass"
      ],
      "metadata": {
        "id": "LJaDbYJLD0PX"
      }
    },
    {
      "cell_type": "markdown",
      "source": [
        "## **Program:**"
      ],
      "metadata": {
        "id": "HfGkVPZoEPL7"
      }
    },
    {
      "cell_type": "code",
      "source": [
        "class Point:\n",
        "    def __init__(self, x, y, z):\n",
        "        self.x = x\n",
        "        self.y = y\n",
        "        self.z = z\n",
        "\n",
        "    def sqSum(self):\n",
        "        return self.x ** 2 + self.y ** 2 + self.z ** 2\n",
        "\n",
        "x,y,z = map(int, input(\"sample input: \").split(','))\n",
        "\n",
        "point = Point(x, y, z)\n",
        "\n",
        "method_output = point.sqSum()\n",
        "print(\"Sample method output:\", method_output)"
      ],
      "metadata": {
        "colab": {
          "base_uri": "https://localhost:8080/"
        },
        "id": "HXf53uz9A9K2",
        "outputId": "a2332b78-9d56-4dee-cef2-8010be906a1e"
      },
      "execution_count": null,
      "outputs": [
        {
          "output_type": "stream",
          "name": "stdout",
          "text": [
            "sample input: 1,3,5\n",
            "Sample method output: 35\n"
          ]
        }
      ]
    },
    {
      "cell_type": "markdown",
      "source": [
        "**--------------------------------------------------------------------------------** **-------------------------------------------------------------------------------**"
      ],
      "metadata": {
        "id": "a2Y36nm9jJi8"
      }
    },
    {
      "cell_type": "markdown",
      "source": [
        "## **Challenge 2: Implement a Calculator Class**\n",
        "\n",
        "**🔴 In this exercise, you have to implement a calculator that can perform addition, subtraction, multiplication, and division.**\n",
        "\n",
        "**Problem statement Write a Python class called Calculator by completing the tasks below:**\n",
        "\n",
        "## **Task 1**\n",
        "\n",
        "### **👉 Initializer**\n",
        "\n",
        "Implement an initializer to initialize the values of num1 and num2. Properties\n",
        "\n",
        "• num1\n",
        "\n",
        "• num2\n",
        "\n",
        "\n",
        "## **Task 2**\n",
        "\n",
        "**👉 Methods**\n",
        "\n",
        "• add() is a method that returns the sum of num1 and num2.\n",
        "\n",
        "• subtract() is a method that returns the subtraction of num1 from num2.\n",
        "\n",
        "• multiply() is a method that returns the product of num1 and num2.\n",
        "\n",
        "• divide() is a method that returns the division of num2 by num1.\n",
        "\n",
        "\n",
        "**Input** - Pass numbers (integers or floats) in the initializer.\n",
        "\n",
        "**Output** - addition, subtraction, division, and multiplication\n",
        "\n",
        "**Sample input:**\n",
        "\n",
        "obj = Calculator(10, 94)\n",
        "\n",
        "obj.add()\n",
        "\n",
        "obj.subtract()\n",
        "\n",
        "obj.multiply()\n",
        "\n",
        "obj.divide()\n",
        "\n",
        "\n",
        "## **Sample output**\n",
        "\n",
        "104\n",
        "\n",
        "84\n",
        "\n",
        "940\n",
        "\n",
        "9.4\n",
        "\n",
        "## **Coding exercise**\n",
        "\n",
        "class Calculator:\n",
        "\n",
        "    def __init__(self):\n",
        "        pass\n",
        "    def add(self):\n",
        "        pass\n",
        "    def subtract(self):\n",
        "        pass\n",
        "    def multiply(self):\n",
        "        pass\n",
        "    def divide(self):\n",
        "        pass"
      ],
      "metadata": {
        "id": "0jqDPvg6DyO8"
      }
    },
    {
      "cell_type": "markdown",
      "source": [
        "## **Code :**"
      ],
      "metadata": {
        "id": "WqM60TLAG6eA"
      }
    },
    {
      "cell_type": "code",
      "source": [
        "class Calculator:\n",
        "    def __init__(self, num1, num2):\n",
        "        self.num1 = num1\n",
        "        self.num2 = num2\n",
        "\n",
        "    def add(self):\n",
        "        return self.num1 + self.num2\n",
        "\n",
        "    def subtract(self):\n",
        "        return self.num1 - self.num2\n",
        "\n",
        "    def multiply(self):\n",
        "        return self.num1 * self.num2\n",
        "\n",
        "    def divide(self):\n",
        "        if self.num2 != 0:\n",
        "            return self.num1 / self.num2\n",
        "        else:\n",
        "            return \"Cannot divide by zero\"\n",
        "\n",
        "x,y = map(int, input(\"sample input: \").split(','))\n",
        "obj = Calculator(x,y)\n",
        "\n",
        "print(\"Sample output: \")\n",
        "print(obj.add())\n",
        "print(obj.subtract())\n",
        "print(obj.multiply())\n",
        "print(obj.divide())\n"
      ],
      "metadata": {
        "colab": {
          "base_uri": "https://localhost:8080/"
        },
        "id": "9Yx3zUiyEtvW",
        "outputId": "b7e91b22-6001-40bb-a0ae-3f87962960e7"
      },
      "execution_count": 29,
      "outputs": [
        {
          "output_type": "stream",
          "name": "stdout",
          "text": [
            "sample input: 94,10\n",
            "Sample output: \n",
            "104\n",
            "84\n",
            "940\n",
            "9.4\n"
          ]
        }
      ]
    },
    {
      "cell_type": "markdown",
      "source": [
        "**-------------------------------------------------------------------------------** **-----------------------------------------------------------------------------**"
      ],
      "metadata": {
        "id": "UOWvbSV_ik-A"
      }
    },
    {
      "cell_type": "markdown",
      "source": [
        "## **Challenge 3: Implement the Complete Student Class**\n",
        "\n",
        "**🔴In this challenge, you will implement a student class**\n",
        "**Problem statement**\n",
        "\n",
        "Implement the complete Student class by completing the tasks below\n",
        "\n",
        "Task\n",
        "\n",
        "**👉 Implement the following properties as private:**\n",
        "\n",
        "• name\n",
        "\n",
        "• rollNumber\n",
        "\n",
        "**👉 Include the following methods to get and set the private properties above:**\n",
        "\n",
        "• getName()\n",
        "\n",
        "• setName()\n",
        "\n",
        "• getRollNumber()\n",
        "\n",
        "• setRollNumber()\n",
        "\n",
        "**👉 Implement this class according to the rules of encapsulation.**\n",
        "\n",
        "**Input** - Checking all the properties and methods\n",
        "\n",
        "**Output** - Expecting perfectly defined fields and getter/setters\n",
        "\n",
        "Note: Do not use initializers to initialize the properties. Use the set methods to do so.\n",
        "\n",
        "If the setter is not defined properly, the corresponding getter will also generate an error even if the getter is defined properly.\n",
        "\n",
        "**Coding exercise**\n",
        "\n",
        "**class Student:**\n",
        "\n",
        "    def setName(self):\n",
        "        pass\n",
        "    def getName(self):\n",
        "        pass\n",
        "    def setRollNumber(self):\n",
        "        pass\n",
        "    def getRollNumber(self):\n",
        "        pass"
      ],
      "metadata": {
        "id": "urYBd5kL6i2i"
      }
    },
    {
      "cell_type": "markdown",
      "source": [
        "## **Code:**"
      ],
      "metadata": {
        "id": "FPdbuCb3uV86"
      }
    },
    {
      "cell_type": "code",
      "source": [
        "class Student:\n",
        "    def setName(self, name):\n",
        "        self.__name = name\n",
        "\n",
        "    def getName(self):\n",
        "        return self.__name\n",
        "\n",
        "    def setRollNumber(self, rollNumber):\n",
        "        self.__rollNumber = rollNumber\n",
        "\n",
        "    def getRollNumber(self):\n",
        "        return self.__rollNumber\n",
        "\n",
        "student1 = Student()\n",
        "\n",
        "x = input(\"Enter the name: \")\n",
        "y = int(input(\"Enter the Roll No: \"))\n",
        "student1.setName(x)\n",
        "student1.setRollNumber(y)\n",
        "\n",
        "print(\"Name:\", student1.getName())\n",
        "print(\"Roll Number:\", student1.getRollNumber())\n"
      ],
      "metadata": {
        "colab": {
          "base_uri": "https://localhost:8080/"
        },
        "id": "ITuyIySZ9Ejp",
        "outputId": "b7dd70ca-df1f-4cf1-98ca-adef5702f3e0"
      },
      "execution_count": 23,
      "outputs": [
        {
          "output_type": "stream",
          "name": "stdout",
          "text": [
            "Enter the name: Rohit\n",
            "Enter the Roll No: 23242\n",
            "Name: Rohit\n",
            "Roll Number: 23242\n"
          ]
        }
      ]
    },
    {
      "cell_type": "markdown",
      "source": [
        "**--------------------------------------------------------------------------------** **--------------------------------------------------------------------------------**"
      ],
      "metadata": {
        "id": "fWrTlStcl7r1"
      }
    },
    {
      "cell_type": "markdown",
      "source": [
        "## **Challenge 4: Implement a Banking Account**\n",
        "\n",
        "**🔴 In this challenge, you will implement a banking account using the concept** **of inheritance.**\n",
        "\n",
        "**Problem statement**\n",
        "\n",
        "**Implement the basic structure of a parent class, Account, and a child class,** **SavingsAccount.**\n",
        "\n",
        "**Task 1**\n",
        "\n",
        "**👉 Implement properties as instance variables, and set them to None or 0.**\n",
        "\n",
        "**Account has the following properties:**\n",
        "\n",
        "    • title\n",
        "    • Balance\n",
        "\n",
        "**SavingsAccount has the following properties:**\n",
        "\n",
        "    • interestRate\n",
        "\n",
        "**Task 2**\n",
        "\n",
        "**Create an initializer for Account class. The order of parameters should be the** **following, where Ashish is the title, and 5000 is the account balance:**\n",
        "\n",
        "Account(\"Ashish\", 5000)\n",
        "\n",
        "**Task 3**\n",
        "\n",
        "**Implement properties as instance variables, and set them to None or 0.**\n",
        "\n",
        "**Create an initializer for the SavingsAccount class using the initializer of the** **Account class in the order below:**\n",
        "\n",
        "Account(\"Ashish\", 5000, 5)\n",
        "\n",
        "Here, Ashish is the title and 5000 is the balance and 5 is the interestRate.\n",
        "\n",
        "**Coding exercise**\n",
        "\n",
        "class Account:\n",
        "\n",
        "    def __init__(self):\n",
        "        # write your code here\n",
        "        pass\n",
        "\n",
        "class SavingsAccount():\n",
        "\n",
        "    def __init__(self):\n",
        "        # write your code here\n",
        "        Pass"
      ],
      "metadata": {
        "id": "aKZot472viWO"
      }
    },
    {
      "cell_type": "markdown",
      "source": [
        "## **Code:**"
      ],
      "metadata": {
        "id": "Hrn7NrTDFAY_"
      }
    },
    {
      "cell_type": "markdown",
      "source": [
        "**Task 1:**"
      ],
      "metadata": {
        "id": "plGEOzdtOrE8"
      }
    },
    {
      "cell_type": "code",
      "source": [
        "class Account:\n",
        "    def __init__(self, title, balance=0):\n",
        "        self.title = title\n",
        "        self.balance = balance\n",
        "\n",
        "class SavingsAccount(Account):\n",
        "    def __init__(self, title, balance, interestRate):\n",
        "        super().__init__(title, balance)\n",
        "        self.interestRate = interestRate"
      ],
      "metadata": {
        "id": "XFpixj5T0lxX"
      },
      "execution_count": 2,
      "outputs": []
    },
    {
      "cell_type": "markdown",
      "source": [
        "**Task 2:**"
      ],
      "metadata": {
        "id": "DnjqpmsOEliW"
      }
    },
    {
      "cell_type": "code",
      "source": [
        "x = input(\"Enter Title: \")\n",
        "y = input(\"Enter Balance: \")\n",
        "print(f'Sample input: Account(\"{x}\",{y})')\n",
        "account1 = Account(x, y)\n",
        "print(\"Account Title:\", account1.title)\n",
        "print(\"Account Balance:\", account1.balance)"
      ],
      "metadata": {
        "colab": {
          "base_uri": "https://localhost:8080/"
        },
        "id": "PWxyuDlKEah-",
        "outputId": "92db21ed-3a90-42bb-ffd3-12f22434798a"
      },
      "execution_count": 16,
      "outputs": [
        {
          "output_type": "stream",
          "name": "stdout",
          "text": [
            "Enter Title: Ashish\n",
            "Enter Balance: 5000\n",
            "Sample input: Account(\"Ashish\",5000)\n",
            "Account Title: Ashish\n",
            "Account Balance: 5000\n"
          ]
        }
      ]
    },
    {
      "cell_type": "markdown",
      "source": [
        "**Task 3:**"
      ],
      "metadata": {
        "id": "mSnhC_noEo17"
      }
    },
    {
      "cell_type": "code",
      "source": [
        "x = input(\"Enter Title: \")\n",
        "y = input(\"Enter Balance: \")\n",
        "z = input(\"Enter Interest rate: \")\n",
        "print(f'Sample input: SavingsAccount(\"{x}\",{y},{z})')\n",
        "savings_account1 = SavingsAccount(x, y, z)\n",
        "print(\"Savings Account Title:\", savings_account1.title)\n",
        "print(\"Savings Account Balance:\", savings_account1.balance)\n",
        "print(\"Interest Rate:\", savings_account1.interestRate)"
      ],
      "metadata": {
        "colab": {
          "base_uri": "https://localhost:8080/"
        },
        "id": "ULj9vH6HEfH7",
        "outputId": "9fcd0e2b-1e1a-4387-bf3c-15332ac2726d"
      },
      "execution_count": 20,
      "outputs": [
        {
          "output_type": "stream",
          "name": "stdout",
          "text": [
            "Enter Title: Ashish\n",
            "Enter Balance: 5000\n",
            "Enter Interest rate: 5\n",
            "Sample input: SavingsAccount(\"Ashish\",5000,5)\n",
            "Savings Account Title: Ashish\n",
            "Savings Account Balance: 5000\n",
            "Interest Rate: 5\n"
          ]
        }
      ]
    },
    {
      "cell_type": "markdown",
      "source": [
        "**--------------------------------------------------------------------------------** **--------------------------------------------------------------------------------**"
      ],
      "metadata": {
        "id": "rYCTR-D1mWvw"
      }
    },
    {
      "cell_type": "markdown",
      "source": [
        "## **Challenge 5: Handling a Bank Account**\n",
        "\n",
        "**🔴 In this challenge, you will define methods for handling a bank account using** **concepts of inheritance.**\n",
        "\n",
        "**Problem statement**\n",
        "\n",
        "**In this challenge, we will be extending the previous challenge and implementing** **methods in the parent class and its corresponding child class.**\n",
        "\n",
        "The initializers for both classes have been defined for you.\n",
        "\n",
        "**Task 1**\n",
        "\n",
        "In the Account class, implement the getBalance() method that returns balance.\n",
        "\n",
        "**Task 2**\n",
        "\n",
        "In the Account class, implement the deposit(amount) method that adds amount to the balance.\n",
        "\n",
        "It does not return anything.\n",
        "\n",
        "**Sample input**\n",
        "\n",
        "balance = 2000\n",
        "\n",
        "\n",
        "\n",
        "deposit(500)\n",
        "\n",
        "\n",
        "getbalance()\n",
        "\n",
        "\n",
        "**Sample output**\n",
        "\n",
        "2500\n",
        "\n",
        "**Task 3**\n",
        "\n",
        "In the Account class, implement the withdrawal(amount) method that subtracts the amount from the balance.\n",
        "\n",
        "It does not return anything.\n",
        "\n",
        "**Sample input**\n",
        "\n",
        "balance = 2000\n",
        "\n",
        "withdrawal(500)\n",
        "\n",
        "getbalance()\n",
        "\n",
        "**Sample output**\n",
        "\n",
        "1500\n",
        "\n",
        "**Task 4**\n",
        "\n",
        "In the SavingsAccount class, implement an interestAmount() method that returns the interest amount of the current balance.\n",
        "\n",
        "Below is the formula for calculating the interest amount:\n",
        "\n",
        "image1\n",
        "\n",
        "**Sample input**\n",
        "\n",
        "balance = 2000\n",
        "\n",
        "interestRate = 5\n",
        "\n",
        "interestAmount()\n",
        "\n",
        "**Sample output**\n",
        "\n",
        "100\n",
        "\n",
        "The following figure shows what the result should logically look like:\n",
        "\n",
        "\n",
        "**Coding exercise**\n",
        "\n",
        "Note: A new SavingsClass object is initialized at the end of the code and test results will be based on it.\n",
        "\n",
        "class Account:\n",
        "\n",
        "    def __init__(self, title=None, balance=0):\n",
        "        self.title = title\n",
        "        self.balance = balance\n",
        "    \n",
        "    def withdrawal(self, amount):\n",
        "        # write code here\n",
        "        pass\n",
        "\n",
        "    def deposit(self, amount):\n",
        "        # write code here\n",
        "        pass\n",
        "    def getBalance(self):\n",
        "        # write code here\n",
        "        pass\n",
        "\n",
        "class SavingsAccount(Account):\n",
        "\n",
        "    def __init__(self, title=None, balance=0, interestRate=0):\n",
        "            super().__init__(title, balance)\n",
        "            self.interestRate = interestRate\n",
        "    \n",
        "    def interestAmount(self):\n",
        "        # write code here\n",
        "        pass\n",
        "\n",
        "#code to test - do not edit this\n",
        "\n",
        "demo1 = SavingsAccount(\"Ashish\", 2000, 5)   # initializing a SavingsAccount object"
      ],
      "metadata": {
        "id": "eOPgZoX5FO3Q"
      }
    },
    {
      "cell_type": "code",
      "source": [
        "class Account:\n",
        "    def __init__(self, title=None, balance=0):\n",
        "        self.title = title\n",
        "        self.balance = balance\n",
        "\n",
        "    def withdrawal(self, amount):\n",
        "        if amount <= self.balance:\n",
        "            self.balance -= amount\n",
        "        else:\n",
        "            print(\"Insufficient balance for withdrawal.\")\n",
        "\n",
        "    def deposit(self, amount):                    # Task 2\n",
        "        self.balance += amount\n",
        "\n",
        "    def getBalance(self):                         # Task 1\n",
        "        return self.balance\n",
        "\n",
        "class SavingsAccount(Account):\n",
        "    def __init__(self, title=None, balance=0, interestRate=0):\n",
        "        super().__init__(title, balance)\n",
        "        self.interestRate = interestRate\n",
        "\n",
        "    def interestAmount(self):\n",
        "        return self.balance * self.interestRate / 100\n",
        "\n",
        "x = input(\"Enter Title: \")\n",
        "y = int(input(\"Enter Balance: \"))\n",
        "z = int(input(\"Enter Interest rate: \"))\n",
        "print(f'Sample input: SavingsAccount(\"{x}\",{y},{z})')\n",
        "demo1 = SavingsAccount(x, y, z)\n",
        "\n",
        "print(\"Initial Balance:\", demo1.getBalance())\n",
        "demo1.deposit(500)                             #Task 2\n",
        "print(\"Balance after deposit:\", demo1.getBalance())\n",
        "demo1.withdrawal(500)                          #Task 3\n",
        "print(\"Balance after withdrawal:\", demo1.getBalance())\n",
        "print(\"Interest Amount:\", int(demo1.interestAmount()))  #Task 4\n"
      ],
      "metadata": {
        "colab": {
          "base_uri": "https://localhost:8080/"
        },
        "id": "-1VYILtDFScV",
        "outputId": "e0e7a22f-8661-42b1-ecd3-f06ea1904b50"
      },
      "execution_count": 28,
      "outputs": [
        {
          "output_type": "stream",
          "name": "stdout",
          "text": [
            "Enter Title: Ashish\n",
            "Enter Balance: 2000\n",
            "Enter Interest rate: 5\n",
            "Sample input: SavingsAccount(\"Ashish\",2000,5)\n",
            "Initial Balance: 2000\n",
            "Balance after deposit: 2500\n",
            "Balance after withdrawal: 2000\n",
            "Interest Amount: 100\n"
          ]
        }
      ]
    }
  ]
}