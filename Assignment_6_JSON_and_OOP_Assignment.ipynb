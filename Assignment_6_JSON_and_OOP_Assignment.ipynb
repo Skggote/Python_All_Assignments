{
  "nbformat": 4,
  "nbformat_minor": 0,
  "metadata": {
    "colab": {
      "provenance": []
    },
    "kernelspec": {
      "name": "python3",
      "display_name": "Python 3"
    },
    "language_info": {
      "name": "python"
    }
  },
  "cells": [
    {
      "cell_type": "markdown",
      "source": [
        "# **Assignment-6: JSON and OOP Assignment**"
      ],
      "metadata": {
        "id": "ux5RvzEsM_fy"
      }
    },
    {
      "cell_type": "markdown",
      "source": [
        "## **Assignment 1**\n",
        "\n",
        "**👉 1. Create a JSON file (employee.json) containing employee information of minimum 5 employees. Each employee information consists of Name, DOB, Height, City, State. Write a python program that reads this information from the JSON file and saves the information into a list of objects of Employee class. Finally print the list of the Employee objects.**"
      ],
      "metadata": {
        "id": "Z-6IVz095B5w"
      }
    },
    {
      "cell_type": "code",
      "execution_count": 1,
      "metadata": {
        "colab": {
          "base_uri": "https://localhost:8080/"
        },
        "id": "R-ivbiR5yYeZ",
        "outputId": "f36fc574-3eb9-4608-e3fd-64a360039084"
      },
      "outputs": [
        {
          "name": "stdout",
          "output_type": "stream",
          "text": [
            "Enter the number of employees: 5\n",
            "Enter details for Employee 1:\n",
            "Name: Rakesh\n",
            "DOB (YYYY-MM-DD): 1993-07-09\n",
            "Height: 182\n",
            "City: Pune\n",
            "State: Maharashtra\n",
            "Enter details for Employee 2:\n",
            "Name: Sairam Reddy\n",
            "DOB (YYYY-MM-DD): 1998-04-03\n",
            "Height: 178\n",
            "City: Hydrabad\n",
            "State: Telangana\n",
            "Enter details for Employee 3:\n",
            "Name: Srikant A \n",
            "DOB (YYYY-MM-DD): 1997-05-04\n",
            "Height: 175\n",
            "City: Banglore\n",
            "State: Karnataka\n",
            "Enter details for Employee 4:\n",
            "Name: Pansingh \n",
            "DOB (YYYY-MM-DD): 1996-06-03\n",
            "Height: 173\n",
            "City: Bikaner\n",
            "State: Rajasthan\n",
            "Enter details for Employee 5:\n",
            "Name: Anup\n",
            "DOB (YYYY-MM-DD): 1998-05-01\n",
            "Height: 168\n",
            "City: Delhi\n",
            "State: UttarPradesh\n"
          ]
        }
      ],
      "source": [
        "import json\n",
        "\n",
        "employee_data = []\n",
        "num_employees = int(input(\"Enter the number of employees: \"))\n",
        "\n",
        "for i in range(num_employees):\n",
        "    print(f\"Enter details for Employee {i + 1}:\")\n",
        "    name = input(\"Name: \")\n",
        "    dob = input(\"DOB (YYYY-MM-DD): \")\n",
        "    height = int(input(\"Height: \"))\n",
        "    city = input(\"City: \")\n",
        "    state = input(\"State: \")\n",
        "    employee_data.append({\n",
        "        \"Name\": name,\n",
        "        \"DOB\": dob,\n",
        "        \"Height\": height,\n",
        "        \"City\": city,\n",
        "        \"State\": state\n",
        "    })\n",
        "\n",
        "\n",
        "with open('employee.json', 'w') as file:\n",
        "    json.dump(employee_data, file, indent=4)\n"
      ]
    },
    {
      "cell_type": "code",
      "source": [
        "import json\n",
        "\n",
        "class Employee:\n",
        "    def __init__(self, name, dob, height, city, state):\n",
        "        self.name = name\n",
        "        self.dob = dob\n",
        "        self.height = height\n",
        "        self.city = city\n",
        "        self.state = state\n",
        "\n",
        "with open('employee.json', 'r') as file:\n",
        "    employee_data = json.load(file)\n",
        "\n",
        "employee_objects = []\n",
        "for employee in employee_data:\n",
        "    employee_obj = Employee(\n",
        "        employee[\"Name\"],\n",
        "        employee[\"DOB\"],\n",
        "        employee[\"Height\"],\n",
        "        employee[\"City\"],\n",
        "        employee[\"State\"]\n",
        "    )\n",
        "    employee_objects.append(employee_obj)\n",
        "\n",
        "for employee in employee_objects:\n",
        "    print(f\"Name: {employee.name}, DOB: {employee.dob}, Height: {employee.height}, City: {employee.city}, State: {employee.state}\")\n"
      ],
      "metadata": {
        "colab": {
          "base_uri": "https://localhost:8080/"
        },
        "id": "VGFuPzJ64IK5",
        "outputId": "e253db2d-1b73-4a13-ed5d-90af89bda56f"
      },
      "execution_count": 2,
      "outputs": [
        {
          "output_type": "stream",
          "name": "stdout",
          "text": [
            "Name: Rakesh, DOB: 1993-07-09, Height: 182, City: Pune, State: Maharashtra\n",
            "Name: Sairam Reddy, DOB: 1998-04-03, Height: 178, City: Hydrabad, State: Telangana\n",
            "Name: Srikant A , DOB: 1997-05-04, Height: 175, City: Banglore, State: Karnataka\n",
            "Name: Pansingh , DOB: 1996-06-03, Height: 173, City: Bikaner, State: Rajasthan\n",
            "Name: Anup, DOB: 1998-05-01, Height: 168, City: Delhi, State: UttarPradesh\n"
          ]
        }
      ]
    },
    {
      "cell_type": "markdown",
      "source": [
        "**👉 2. Create a dictionary of any 7 Indian states and their capitals. Write this into a JSON file.**"
      ],
      "metadata": {
        "id": "kpNclKgi_xkH"
      }
    },
    {
      "cell_type": "code",
      "source": [
        "import json\n",
        "\n",
        "indian_states = {}\n",
        "\n",
        "for _ in range(7):\n",
        "    state = input(\"Enter an Indian state: \")\n",
        "    capital = input(f\"Enter the capital of {state}: \")\n",
        "    indian_states[state] = capital\n",
        "\n",
        "with open(\"indian_states.json\", \"w\") as json_file:\n",
        "    json.dump(indian_states, json_file,indent=4)\n",
        "\n",
        "print(\"JSON file created successfully.\")\n"
      ],
      "metadata": {
        "colab": {
          "base_uri": "https://localhost:8080/"
        },
        "id": "JWxcEku54iCd",
        "outputId": "db513e7d-7905-4c4b-897d-453edd5d8d56"
      },
      "execution_count": 4,
      "outputs": [
        {
          "output_type": "stream",
          "name": "stdout",
          "text": [
            "Enter an Indian state: Maharashtra\n",
            "Enter the capital of Maharashtra: Mumbai\n",
            "Enter an Indian state: Tamil Nadu\n",
            "Enter the capital of Tamil Nadu: Chennai\n",
            "Enter an Indian state: Gujrat\n",
            "Enter the capital of Gujrat: Gandhi Nagar\n",
            "Enter an Indian state: Rajasthan\n",
            "Enter the capital of Rajasthan: Jaipur\n",
            "Enter an Indian state: Punjab\n",
            "Enter the capital of Punjab: Chandigarh\n",
            "Enter an Indian state: Karnataka\n",
            "Enter the capital of Karnataka: Bengluru\n",
            "Enter an Indian state: UttarPradesh\n",
            "Enter the capital of UttarPradesh: Lakhnow\n",
            "JSON file created successfully.\n"
          ]
        }
      ]
    },
    {
      "cell_type": "markdown",
      "source": [
        "## **Assignment 2**"
      ],
      "metadata": {
        "id": "mDrtde8nBazU"
      }
    },
    {
      "cell_type": "markdown",
      "source": [
        "**👉 1. Create a class named ‘Dog’. It should have a constructor which accepts its name, age and coat color. You must perform the following operations:**\n",
        "\n",
        "**🔴 a. It should have a function ‘description()’ which prints the name and age of the dog**.\n",
        "\n",
        "**🔴 b. It should have a function ‘get_info()’ which prints the coat color of the dog.**\n",
        "\n",
        "**🔴 c. Create child classes ‘JackRussellTerrier’ and ‘Bulldog’ which is inherited from the class ‘Dog’. It should have at least two methods of its own.**\n",
        "\n",
        "**🔴 d. Create objects and implement the above functionalities.**"
      ],
      "metadata": {
        "id": "ukm2Ko4WA9jK"
      }
    },
    {
      "cell_type": "code",
      "source": [
        "class Dog:\n",
        "    def __init__(self, name, age, coat_color):\n",
        "        self.name = name\n",
        "        self.age = age\n",
        "        self.coat_color = coat_color\n",
        "\n",
        "    def description(self):\n",
        "        print(f\"Dog's name is {self.name} and age is {self.age} years.\")\n",
        "\n",
        "    def get_info(self):\n",
        "        print(f\"The dog's coat color is {self.coat_color}.\")\n",
        "\n",
        "class JackRussellTerrier(Dog):\n",
        "    def __init__(self, name, age, coat_color, uniqueness):\n",
        "        super().__init__(name, age, coat_color)\n",
        "        self.uniqueness = uniqueness\n",
        "\n",
        "    def speciality(self):\n",
        "        print(f\"{self.name} has a uniqueness: {self.uniqueness}.\")\n",
        "\n",
        "class Bulldog(Dog):\n",
        "    def __init__(self, name, age, coat_color, strength):\n",
        "        super().__init__(name, age, coat_color)\n",
        "        self.strength = strength\n",
        "\n",
        "    def show_strength(self):\n",
        "        print(f\"{self.name} is known for its strength: {self.strength}.\")\n",
        "\n",
        "# Taking user input for dog objects\n",
        "def create_dog():\n",
        "    name = input(\"Enter dog's name: \")\n",
        "    age = int(input(\"Enter dog's age: \"))\n",
        "    coat_color = input(\"Enter coat color: \")\n",
        "    dog_type = int(input(\"Enter dog type (1 for JackRussellTerrier, 2 for Bulldog, any other key for default Dog): \"))\n",
        "    if dog_type == 1:\n",
        "        uniqueness = input(\"Enter uniqueness: \")\n",
        "        return JackRussellTerrier(name, age, coat_color, uniqueness)\n",
        "    elif dog_type == 2:\n",
        "        strength = input(\"Enter strength: \")\n",
        "        return Bulldog(name, age, coat_color, strength)\n",
        "    else:\n",
        "        return Dog(name, age, coat_color)\n",
        "\n",
        "dog = create_dog()\n",
        "\n",
        "dog.description()\n",
        "dog.get_info()\n",
        "\n",
        "if isinstance(dog, JackRussellTerrier):\n",
        "    dog.speciality()\n",
        "elif isinstance(dog, Bulldog):\n",
        "    dog.show_strength()"
      ],
      "metadata": {
        "colab": {
          "base_uri": "https://localhost:8080/"
        },
        "id": "CMETR-GpA8dP",
        "outputId": "30bf5ec9-3ee8-444e-a8b9-ceadce161b9c"
      },
      "execution_count": 21,
      "outputs": [
        {
          "output_type": "stream",
          "name": "stdout",
          "text": [
            "Enter dog's name: Tyson\n",
            "Enter dog's age: 5\n",
            "Enter coat color: Brown\n",
            "Enter dog type (1 for JackRussellTerrier, 2 for Bulldog, any other key for default Dog): 1\n",
            "Enter uniqueness: Intelligent\n",
            "Dog's name is Tyson and age is 5 years.\n",
            "The dog's coat color is Brown.\n",
            "Tyson has a uniqueness: Intelligent.\n"
          ]
        }
      ]
    }
  ]
}